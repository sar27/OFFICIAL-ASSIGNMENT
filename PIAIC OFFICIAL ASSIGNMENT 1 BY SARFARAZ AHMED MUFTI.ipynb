{
 "cells": [
  {
   "cell_type": "markdown",
   "metadata": {},
   "source": [
    "# SARFARAZ AHMED MUFTI (AIC006566)"
   ]
  },
  {
   "cell_type": "markdown",
   "metadata": {},
   "source": [
    "## 1. Calculate Area of a Circle"
   ]
  },
  {
   "cell_type": "markdown",
   "metadata": {},
   "source": [
    "#### Write a Python program which accepts the radius of a circle from the user and compute the area.\n",
    "###### Program Console Sample Output 1:\n",
    "###### Input Radius: 0.5\n",
    "###### Area of Circle with radius 0.5 is 0.7853981634"
   ]
  },
  {
   "cell_type": "code",
   "execution_count": 1,
   "metadata": {},
   "outputs": [
    {
     "name": "stdout",
     "output_type": "stream",
     "text": [
      "Enter the radius of circle: .5\n",
      "Area of circle= 0.785\n"
     ]
    }
   ],
   "source": [
    "input_radius=float(input(\"Enter the radius of circle: \"))\n",
    "i=3.14*input_radius**2;\n",
    "print(f\"Area of circle= {i}\")"
   ]
  },
  {
   "cell_type": "markdown",
   "metadata": {},
   "source": [
    "## 2. Check Number either positive, negative or zero"
   ]
  },
  {
   "cell_type": "markdown",
   "metadata": {},
   "source": [
    "#### Write a Python program to check if a number is positive, negative or zero\n",
    "###### Program Console Sample Output 1:\n",
    "###### Enter Number: -1\n",
    "##### Negative Number Entered\n",
    "###### Program Console Sample Output 2:\n",
    "##### Integer: 3\n",
    "##### Positive Number Entered\n",
    "###### Program Console Sample Output 3:\n",
    "##### Integer: 0\n",
    "###### Zero Entered"
   ]
  },
  {
   "cell_type": "code",
   "execution_count": 3,
   "metadata": {},
   "outputs": [
    {
     "name": "stdout",
     "output_type": "stream",
     "text": [
      "Enter A Number:36\n",
      "Positive Number Entered\n"
     ]
    }
   ],
   "source": [
    "inputbyuser=int(input(\"Enter A Number:\"))\n",
    "if inputbyuser<0:\n",
    "    print(\"Negative Number Entered\")\n",
    "elif inputbyuser>0:\n",
    "    print(\"Positive Number Entered\")\n",
    "elif inputbyuser==0:\n",
    "    print(\"Zero Entered\")\n"
   ]
  },
  {
   "cell_type": "code",
   "execution_count": 4,
   "metadata": {},
   "outputs": [
    {
     "name": "stdout",
     "output_type": "stream",
     "text": [
      "Enter A Number:-96\n",
      "Negative Number Entered\n"
     ]
    }
   ],
   "source": [
    "inputbyuser=int(input(\"Enter A Number:\"))\n",
    "if inputbyuser<0:\n",
    "    print(\"Negative Number Entered\")\n",
    "elif inputbyuser>0:\n",
    "    print(\"Positive Number Entered\")\n",
    "elif inputbyuser==0:\n",
    "    print(\"Zero Entered\")\n"
   ]
  },
  {
   "cell_type": "code",
   "execution_count": 5,
   "metadata": {},
   "outputs": [
    {
     "name": "stdout",
     "output_type": "stream",
     "text": [
      "Enter A Number:0\n",
      "Zero Entered\n"
     ]
    }
   ],
   "source": [
    "inputbyuser=int(input(\"Enter A Number:\"))\n",
    "if inputbyuser<0:\n",
    "    print(\"Negative Number Entered\")\n",
    "elif inputbyuser>0:\n",
    "    print(\"Positive Number Entered\")\n",
    "elif inputbyuser==0:\n",
    "    print(\"Zero Entered\")\n",
    "\n"
   ]
  },
  {
   "cell_type": "markdown",
   "metadata": {},
   "source": [
    "## 3. Divisibility Check of two numbers"
   ]
  },
  {
   "cell_type": "markdown",
   "metadata": {},
   "source": [
    "#### Write a Python program to check whether a number is completely divisible by another number. Accept two integer values form the user\n",
    "##### Program Console Sample Output 1:\n",
    "###### Enter numerator: 4\n",
    "###### Enter Denominator: 2\n",
    "##### Number 4 is Completely divisible by 2\n",
    "###### Program Console Sample Output 2:\n",
    "##### Enter numerator: 7\n",
    "\n",
    "##### Enter Denominator: 4\n",
    "###### Number 7 is not Completely divisible by 4"
   ]
  },
  {
   "cell_type": "code",
   "execution_count": 8,
   "metadata": {},
   "outputs": [
    {
     "name": "stdout",
     "output_type": "stream",
     "text": [
      "Enter a Number:7\n",
      "Enter a Number:4\n",
      "Number 7 is not completely divisivle by 4.\n"
     ]
    }
   ],
   "source": [
    "inputbyuser=int(input(\"Enter a Number:\"))\n",
    "inputbyuserother=int(input(\"Enter a Number:\"))\n",
    "if inputbyuser%inputbyuserother==0:\n",
    "    print(f'Number {inputbyuser} is completely divisible by {inputbyuserother}.')\n",
    "else:\n",
    "    print(f'Number {inputbyuser} is not completely divisivle by {inputbyuserother}.')"
   ]
  },
  {
   "cell_type": "markdown",
   "metadata": {},
   "source": [
    "## 4. Calculate Volume of a sphere"
   ]
  },
  {
   "cell_type": "markdown",
   "metadata": {},
   "source": [
    "##### Write a Python program to get the volume of a sphere, please take the radius as input from user"
   ]
  },
  {
   "cell_type": "markdown",
   "metadata": {},
   "source": [
    "##### Program Console Output:\n",
    "##### Enter Radius of Sphere: 1\n",
    "###### Volume of the Sphere with Radius 1 is 4.18"
   ]
  },
  {
   "cell_type": "code",
   "execution_count": 16,
   "metadata": {},
   "outputs": [
    {
     "name": "stdout",
     "output_type": "stream",
     "text": [
      "Enter Radius of Sphere:1\n",
      "volume of sphere is  4.189\n"
     ]
    }
   ],
   "source": [
    "user_input=float(input(\"Enter Radius of Sphere:\"))\n",
    "V=4/3*3.1415926535897931*(user_input**3);\n",
    "VI=round(V,3)\n",
    "print(\"volume of sphere is \",VI)"
   ]
  },
  {
   "cell_type": "markdown",
   "metadata": {},
   "source": [
    "## 5. Copy string n times\n",
    "#### Write a Python program to get a string which is n (non-negative integer) copies of a given string.\n",
    "##### Program Console Output:\n",
    "##### Enter String: Hi\n",
    "###### How many copies of String you need: 4\n",
    "###### 4 Copies of Hi are HiHiHiHi"
   ]
  },
  {
   "cell_type": "code",
   "execution_count": 21,
   "metadata": {},
   "outputs": [
    {
     "name": "stdout",
     "output_type": "stream",
     "text": [
      "Enter a string:Hi\n",
      "how many copies of string you need: 4\n",
      "4 copies of Hi are HiHiHiHi"
     ]
    }
   ],
   "source": [
    "user_input=input(\"Enter a string:\")\n",
    "a=int(input(\"how many copies of string you need: \"))\n",
    "if a > 0:\n",
    "    print(f\"{a} copies of {user_input} are \", end=\"\")\n",
    "    for i in range(a):\n",
    "        print(user_input, end=\"\")\n",
    "else:\n",
    "    print(\"Enter Invalid Number\")"
   ]
  },
  {
   "cell_type": "markdown",
   "metadata": {},
   "source": [
    "## 6. Check if number is Even or Odd\n",
    "### Write a Python program to find whether a given number (accept from the user) is even or odd, print out an appropriate message to the user\n",
    "#### Program Console Output 1:\n",
    "##### Enter Number: 4\n",
    "###### 4 is Even\n",
    "#### Program Console Output 2:\n",
    "##### Enter Number: 9\n",
    "###### 9 is Odd"
   ]
  },
  {
   "cell_type": "code",
   "execution_count": 24,
   "metadata": {},
   "outputs": [
    {
     "name": "stdout",
     "output_type": "stream",
     "text": [
      "Enter a number:5\n",
      "5 is odd number\n"
     ]
    }
   ],
   "source": [
    "input_=int(input(\"Enter a number:\"))\n",
    "if input_%2==0:\n",
    "    print('{} is even number'.format(input_))\n",
    "else:\n",
    "    print('{} is odd number'.format(input_))"
   ]
  },
  {
   "cell_type": "markdown",
   "metadata": {},
   "source": [
    "## 7. Vowel Tester\n",
    "### Write a Python program to test whether a passed letter is a vowel or not\n",
    "#### Program Console Output 1:\n",
    "##### Enter a character: A\n",
    "###### Letter A is Vowel\n",
    "#### Program Console Output 2:\n",
    "##### Enter a character: e\n",
    "###### Letter e is Vowel\n",
    "#### Program Console Output 2:\n",
    "##### Enter a character: N\n",
    "###### Letter N is not Vowel"
   ]
  },
  {
   "cell_type": "code",
   "execution_count": 39,
   "metadata": {},
   "outputs": [
    {
     "name": "stdout",
     "output_type": "stream",
     "text": [
      "Enter a Letter: e\n",
      "Letter e is Vowel\n"
     ]
    }
   ],
   "source": [
    "user_input=(input(\"Enter a Letter: \"))\n",
    "if user_input.upper()== 'A' :\n",
    "    print('Letter {} is Vowel'.format(user_input))\n",
    "elif user_input.upper()== 'E':\n",
    "    print('Letter {} is Vowel'.format(user_input))\n",
    "elif user_input.upper()== 'I' : \n",
    "    print('Letter {} is Vowel'.format(user_input))\n",
    "elif user_input.upper()== 'O':\n",
    "    print('Letter {} is Vowel'.format(user_input))\n",
    "elif user_input.upper()== 'U':\n",
    "    print('Letter {} is Vowel'.format(user_input))\n",
    "else:\n",
    "    print('Letter {} is not Vowel'.format(user_input))"
   ]
  },
  {
   "cell_type": "code",
   "execution_count": 40,
   "metadata": {},
   "outputs": [
    {
     "name": "stdout",
     "output_type": "stream",
     "text": [
      "Enter a Letter: A\n",
      "Letter A is Vowel\n"
     ]
    }
   ],
   "source": [
    "user_input=(input(\"Enter a Letter: \"))\n",
    "if user_input.upper()== 'A' :\n",
    "    print('Letter {} is Vowel'.format(user_input))\n",
    "elif user_input.upper()== 'E':\n",
    "    print('Letter {} is Vowel'.format(user_input))\n",
    "elif user_input.upper()== 'I' : \n",
    "    print('Letter {} is Vowel'.format(user_input))\n",
    "elif user_input.upper()== 'O':\n",
    "    print('Letter {} is Vowel'.format(user_input))\n",
    "elif user_input.upper()== 'U':\n",
    "    print('Letter {} is Vowel'.format(user_input))\n",
    "else:\n",
    "    print('Letter {} is not Vowel'.format(user_input))"
   ]
  },
  {
   "cell_type": "code",
   "execution_count": 41,
   "metadata": {},
   "outputs": [
    {
     "name": "stdout",
     "output_type": "stream",
     "text": [
      "Enter a Letter: N\n",
      "Letter N is not Vowel\n"
     ]
    }
   ],
   "source": [
    "user_input=(input(\"Enter a Letter: \"))\n",
    "if user_input.upper()== 'A' :\n",
    "    print('Letter {} is Vowel'.format(user_input))\n",
    "elif user_input.upper()== 'E':\n",
    "    print('Letter {} is Vowel'.format(user_input))\n",
    "elif user_input.upper()== 'I' : \n",
    "    print('Letter {} is Vowel'.format(user_input))\n",
    "elif user_input.upper()== 'O':\n",
    "    print('Letter {} is Vowel'.format(user_input))\n",
    "elif user_input.upper()== 'U':\n",
    "    print('Letter {} is Vowel'.format(user_input))\n",
    "else:\n",
    "    print('Letter {} is not Vowel'.format(user_input))"
   ]
  },
  {
   "cell_type": "markdown",
   "metadata": {},
   "source": [
    "## 8. Triangle area\n",
    "### Write a Python program that will accept the base and height of a triangle and compute the area\n",
    "###### Reference:\n",
    "https://www.mathgoodies.com/lessons/vol1/area_triangle"
   ]
  },
  {
   "cell_type": "code",
   "execution_count": 46,
   "metadata": {},
   "outputs": [
    {
     "name": "stdout",
     "output_type": "stream",
     "text": [
      "Enter base of a Triangle:15\n",
      "Enter height of a Triangle:10\n",
      "Area of triangle is 75.0\n"
     ]
    }
   ],
   "source": [
    "Base=float(input(\"Enter base of a Triangle:\"))\n",
    "Height=float(input(\"Enter height of a Triangle:\"))\n",
    "A=Base*Height/2;\n",
    "print(f\"Area of triangle is {A}\")"
   ]
  },
  {
   "cell_type": "markdown",
   "metadata": {},
   "source": [
    "## 9. Calculate Interest\n",
    "### Write a Python program to compute the future value of a specified principal amount, rate of interest, and a number of years\n",
    "#### Program Console Sample 1:\n",
    "##### Please enter principal amount: 10000\n",
    "###### Please Enter Rate of interest in %: 0.1\n",
    "###### Enter number of years for investment: 5\n",
    "###### After 5 years your principal amount 10000 over an interest rate of 0.1 % will be 16105.1"
   ]
  },
  {
   "cell_type": "code",
   "execution_count": 51,
   "metadata": {},
   "outputs": [
    {
     "name": "stdout",
     "output_type": "stream",
     "text": [
      "Enter principal amount: 10000\n",
      "Enter rate of interest in %: .1\n",
      "Enter  number of year of investment: 5\n",
      "After 5 years your principal amount 10000.0 over an interest rate of 0.1 % will be 16105.1\n"
     ]
    }
   ],
   "source": [
    "P_A=float(input(\"Enter principal amount: \"))\n",
    "R_I=float(input(\"Enter rate of interest in %: \"))\n",
    "Y_I=int(input(\"Enter  number of year of investment: \"))\n",
    "interest_rate = P_A * ((1+ (10/100)) ** Y_I)\n",
    "I_R=round(interest_rate,1)\n",
    "print(f'After {Y_I} years your principal amount {P_A} over an interest rate of {R_I} % will be {I_R}')\n",
    "        \n",
    "      "
   ]
  },
  {
   "cell_type": "markdown",
   "metadata": {},
   "source": [
    "## 10. Euclidean distance\n",
    "### write a Python program to compute the distance between the points (x1, y1) and (x2, y2).\n",
    "#### Program Console Sample 1:\n",
    "###### Enter Co-ordinate for x1: 2\n",
    "###### Enter Co-ordinate for x2: 4\n",
    "###### Enter Co-ordinate for y1: 4\n",
    "###### Enter Co-ordinate for y2: 4\n",
    "###### Distance between points (2, 4) and (4, 4) is 2"
   ]
  },
  {
   "cell_type": "markdown",
   "metadata": {},
   "source": [
    "###### Reference:\n",
    "https://en.wikipedia.org/wiki/Euclidean_distance"
   ]
  },
  {
   "cell_type": "code",
   "execution_count": 57,
   "metadata": {},
   "outputs": [
    {
     "name": "stdout",
     "output_type": "stream",
     "text": [
      "Enter co-ordinate for x1:2\n",
      "Enter co-ordinate for x2:4\n",
      "Enter co-ordinate for y1:4\n",
      "Enter co-ordinate for y2:4\n",
      "The distance between the points (2,4) and (4,4) is 2.0\n"
     ]
    }
   ],
   "source": [
    "import math\n",
    "a=int(input(\"Enter co-ordinate for x1:\"))\n",
    "b=int(input(\"Enter co-ordinate for x2:\"))\n",
    "c=int(input(\"Enter co-ordinate for y1:\"))\n",
    "d=int(input(\"Enter co-ordinate for y2:\"))\n",
    "Dis= math.sqrt(pow(b-a,2) + pow(d-c,2))\n",
    "print(f\"The distance between the points ({a},{c}) and ({b},{d}) is {Dis}\")"
   ]
  },
  {
   "cell_type": "code",
   "execution_count": null,
   "metadata": {},
   "outputs": [],
   "source": []
  },
  {
   "cell_type": "code",
   "execution_count": null,
   "metadata": {},
   "outputs": [],
   "source": []
  },
  {
   "cell_type": "code",
   "execution_count": null,
   "metadata": {},
   "outputs": [],
   "source": []
  },
  {
   "cell_type": "markdown",
   "metadata": {},
   "source": [
    "## 11. Feet to Centimeter Converter\n",
    "### Write a Python program to convert height in feet to centimetres.\n",
    "##### Program Console Sample 1:\n",
    "###### Enter Height in Feet: 5\n",
    "###### There are 152.4 Cm in 5 ft\n",
    "###### Reference:\n",
    "https://www.rapidtables.com/convert/length/feet-to-cm.html"
   ]
  },
  {
   "cell_type": "code",
   "execution_count": 59,
   "metadata": {},
   "outputs": [
    {
     "name": "stdout",
     "output_type": "stream",
     "text": [
      "Enter height in feet:5\n",
      "There are 152.4 Cm in 5 ft\n"
     ]
    }
   ],
   "source": [
    "feet=int(input(\"Enter height in feet:\"))\n",
    "Cm=feet*30.48\n",
    "print(f\"There are {Cm} Cm in {feet} ft\")"
   ]
  },
  {
   "cell_type": "code",
   "execution_count": null,
   "metadata": {},
   "outputs": [],
   "source": []
  },
  {
   "cell_type": "markdown",
   "metadata": {},
   "source": [
    "## 12. BMI Calculator\n",
    "### Write a Python program to calculate body mass index\n",
    "##### Program Console Sample 1:\n",
    "###### Enter Height in Cm: 180\n",
    "###### Enter Weight in Kg: 75\n",
    "###### Your BMI is 23.15"
   ]
  },
  {
   "cell_type": "code",
   "execution_count": 62,
   "metadata": {},
   "outputs": [
    {
     "name": "stdout",
     "output_type": "stream",
     "text": [
      "Enter height in Cm:180\n",
      "Enter weight in Kg:75\n",
      "Your BMI is  23.15\n"
     ]
    }
   ],
   "source": [
    "user_input=int(input(\"Enter height in Cm:\"))\n",
    "user_input1=int(input(\"Enter weight in Kg:\"))\n",
    "Height=user_input*0.01 \n",
    "BMI=user_input1/Height**2\n",
    "BMI1=round(BMI,2)\n",
    "print(\"Your BMI is \",BMI1)"
   ]
  },
  {
   "cell_type": "markdown",
   "metadata": {},
   "source": [
    "## 13. Sum of n Positive Integers\n",
    "### Write a python program to sum of the first n positive integers\n",
    "#### Program Console Sample 1:\n",
    "###### Enter value of n: 5\n",
    "###### Sum of n Positive integers till 5 is 15"
   ]
  },
  {
   "cell_type": "code",
   "execution_count": 65,
   "metadata": {},
   "outputs": [
    {
     "name": "stdout",
     "output_type": "stream",
     "text": [
      "Enter value of N:5\n",
      "Sum of n positive integers till 5 is 15\n"
     ]
    }
   ],
   "source": [
    "num_flag=0\n",
    "n=int(input(\"Enter value of N:\"))\n",
    "for i in range(n+1):\n",
    "    num_flag += i\n",
    "print('Sum of n positive integers till {0} is {1}'.format(n,num_flag))"
   ]
  },
  {
   "cell_type": "markdown",
   "metadata": {},
   "source": [
    "## 14. Digits Sum of a Number\n",
    "### Write a Python program to calculate the sum of the digits in an integer\n",
    "#### Program Console Sample 1:\n",
    "##### Enter a number: 15\n",
    "###### Sum of 1 + 5 is 6\n",
    "#### Program Console Sample 2:\n",
    "##### Enter a number: 1234\n",
    "###### Sum of 1 + 2 + 3 + 4 is 10"
   ]
  },
  {
   "cell_type": "code",
   "execution_count": 102,
   "metadata": {},
   "outputs": [
    {
     "name": "stdout",
     "output_type": "stream",
     "text": [
      "Enter a number: 1234\n",
      "sum of 1+2+3+4+ is 10"
     ]
    }
   ],
   "source": [
    "num = input(\"Enter a number: \")\n",
    "sum = 0\n",
    "for i in num:\n",
    "    sum += int(i)\n",
    "print(f\"sum of \", end=\"\")\n",
    "for j in num:\n",
    "    print(j, end=\"+\")\n",
    "\n",
    "print(f\" is {sum}\", end=\"\")"
   ]
  },
  {
   "cell_type": "code",
   "execution_count": null,
   "metadata": {},
   "outputs": [],
   "source": []
  },
  {
   "cell_type": "code",
   "execution_count": null,
   "metadata": {},
   "outputs": [],
   "source": []
  },
  {
   "cell_type": "code",
   "execution_count": null,
   "metadata": {},
   "outputs": [],
   "source": []
  },
  {
   "cell_type": "code",
   "execution_count": null,
   "metadata": {},
   "outputs": [],
   "source": []
  },
  {
   "cell_type": "code",
   "execution_count": null,
   "metadata": {},
   "outputs": [],
   "source": []
  },
  {
   "cell_type": "code",
   "execution_count": null,
   "metadata": {},
   "outputs": [],
   "source": []
  }
 ],
 "metadata": {
  "kernelspec": {
   "display_name": "Python 3",
   "language": "python",
   "name": "python3"
  },
  "language_info": {
   "codemirror_mode": {
    "name": "ipython",
    "version": 3
   },
   "file_extension": ".py",
   "mimetype": "text/x-python",
   "name": "python",
   "nbconvert_exporter": "python",
   "pygments_lexer": "ipython3",
   "version": "3.6.5"
  }
 },
 "nbformat": 4,
 "nbformat_minor": 2
}
